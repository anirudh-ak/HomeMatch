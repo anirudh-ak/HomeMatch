{
 "cells": [
  {
   "cell_type": "markdown",
   "id": "a108af04",
   "metadata": {},
   "source": [
    "This is a starter notebook for the project, you'll have to import the libraries you'll need, you can find a list of the ones available in this workspace in the requirements.txt file in this workspace. "
   ]
  },
  {
   "cell_type": "code",
   "execution_count": 4,
   "id": "1baa4b3c",
   "metadata": {},
   "outputs": [
    {
     "name": "stdout",
     "output_type": "stream",
     "text": [
      "Defaulting to user installation because normal site-packages is not writeable\n",
      "Collecting pandas\n",
      "  Downloading pandas-2.2.2-cp310-cp310-manylinux_2_17_x86_64.manylinux2014_x86_64.whl (13.0 MB)\n",
      "\u001b[2K     \u001b[90m━━━━━━━━━━━━━━━━━━━━━━━━━━━━━━━━━━━━━━━━\u001b[0m \u001b[32m13.0/13.0 MB\u001b[0m \u001b[31m66.4 MB/s\u001b[0m eta \u001b[36m0:00:00\u001b[0m00:01\u001b[0m00:01\u001b[0m\n",
      "\u001b[?25hRequirement already satisfied: pytz>=2020.1 in /opt/conda/lib/python3.10/site-packages (from pandas) (2022.7)\n",
      "Collecting tzdata>=2022.7\n",
      "  Downloading tzdata-2024.1-py2.py3-none-any.whl (345 kB)\n",
      "\u001b[2K     \u001b[90m━━━━━━━━━━━━━━━━━━━━━━━━━━━━━━━━━━━━━━\u001b[0m \u001b[32m345.4/345.4 kB\u001b[0m \u001b[31m32.8 MB/s\u001b[0m eta \u001b[36m0:00:00\u001b[0m\n",
      "\u001b[?25hRequirement already satisfied: python-dateutil>=2.8.2 in /opt/conda/lib/python3.10/site-packages (from pandas) (2.9.0.post0)\n",
      "Requirement already satisfied: numpy>=1.22.4 in /opt/conda/lib/python3.10/site-packages (from pandas) (1.24.3)\n",
      "Requirement already satisfied: six>=1.5 in /opt/conda/lib/python3.10/site-packages (from python-dateutil>=2.8.2->pandas) (1.16.0)\n",
      "Installing collected packages: tzdata, pandas\n",
      "Successfully installed pandas-2.2.2 tzdata-2024.1\n"
     ]
    }
   ],
   "source": [
    "!pip install pandas"
   ]
  },
  {
   "cell_type": "code",
   "execution_count": null,
   "id": "ba9f4149",
   "metadata": {},
   "outputs": [],
   "source": []
  },
  {
   "cell_type": "code",
   "execution_count": 25,
   "id": "6554fd4c",
   "metadata": {},
   "outputs": [],
   "source": [
    "import os\n",
    "import random\n",
    "from pydantic import BaseModel, Field, NonNegativeInt\n",
    "from typing import List\n",
    "from langchain.output_parsers import PydanticOutputParser\n",
    "from langchain import PromptTemplate\n",
    "from langchain.schema import Document\n",
    "from fastapi.encoders import jsonable_encoder\n",
    "from langchain.vectorstores.chroma import Chroma\n",
    "import pandas as pd\n",
    "from langchain.llms import OpenAI\n",
    "from langchain.embeddings import OpenAIEmbeddings\n",
    "from langchain.evaluation import load_evaluator\n",
    "from langchain.text_splitter import RecursiveCharacterTextSplitter\n",
    "from langchain.prompts import ChatPromptTemplate\n",
    "from langchain.chat_models import ChatOpenAI\n",
    "\n",
    "import shutil\n",
    "\n",
    "os.environ[\"OPENAI_API_KEY\"] = \"voc-88312162112667733803536698b103749f15.60195553\"\n",
    "os.environ[\"OPENAI_API_BASE\"] = \"https://openai.vocareum.com/v1\"\n"
   ]
  },
  {
   "cell_type": "code",
   "execution_count": 2,
   "id": "cf6b6210",
   "metadata": {},
   "outputs": [],
   "source": [
    "MODEL_NAME = 'gpt-3.5-turbo'"
   ]
  },
  {
   "cell_type": "code",
   "execution_count": 3,
   "id": "4086f843",
   "metadata": {},
   "outputs": [
    {
     "name": "stderr",
     "output_type": "stream",
     "text": [
      "/opt/conda/lib/python3.10/site-packages/langchain/llms/openai.py:202: UserWarning: You are trying to use a chat model. This way of initializing it is no longer supported. Instead, please use: `from langchain.chat_models import ChatOpenAI`\n",
      "  warnings.warn(\n",
      "/opt/conda/lib/python3.10/site-packages/langchain/llms/openai.py:790: UserWarning: You are trying to use a chat model. This way of initializing it is no longer supported. Instead, please use: `from langchain.chat_models import ChatOpenAI`\n",
      "  warnings.warn(\n"
     ]
    }
   ],
   "source": [
    "llm = OpenAI(model_name=MODEL_NAME,\n",
    "            temperature=0)"
   ]
  },
  {
   "cell_type": "markdown",
   "id": "0724a393",
   "metadata": {},
   "source": [
    "## 1. Synthetic Data Generation - Generating Real Estate Listings with an LLM\n"
   ]
  },
  {
   "cell_type": "code",
   "execution_count": 4,
   "id": "aa1a7017",
   "metadata": {},
   "outputs": [],
   "source": [
    "\n",
    "\n",
    "# Creating RealEstateListing and ListingCollection classes\n",
    "class PropertyListing(BaseModel):\n",
    "    \"\"\"\n",
    "    A real estate listing.\n",
    "    \"\"\"\n",
    "    neighborhood: str = Field(description=\"The neighborhood where the property is located\")\n",
    "    price: NonNegativeInt = Field(description=\"The price of the property in USD\")\n",
    "    bedrooms: NonNegativeInt = Field(description=\"The number of bedrooms in the property\")\n",
    "    bathrooms: NonNegativeInt = Field(description=\"The number of bathrooms in the property\")\n",
    "    house_size: NonNegativeInt = Field(description=\"The size of the house in square feet\")\n",
    "    description: str = Field(description=\"A description of the property\")\n",
    "    neighborhood_description: str = Field(description=\"A description of the neighborhood.\")  \n",
    "\n",
    "class ListingCollection(BaseModel):\n",
    "    \"\"\"\n",
    "    A collection of real estate listings.\n",
    "    \"\"\"\n",
    "    listings: List[PropertyListing] = Field(description=\"A list of real estate listings\")\n"
   ]
  },
  {
   "cell_type": "code",
   "execution_count": 5,
   "id": "adcda765",
   "metadata": {},
   "outputs": [],
   "source": [
    "parser = PydanticOutputParser(pydantic_object=ListingCollection)"
   ]
  },
  {
   "cell_type": "code",
   "execution_count": 7,
   "id": "d9ce84c1",
   "metadata": {},
   "outputs": [],
   "source": [
    "generate_data = PromptTemplate(\n",
    "    template=\"{instruction}\\nSample: {sample}\\nFormat: {formatting}\",\n",
    "    input_variables=[\"instruction\",\"sample\"],\n",
    "    partial_variables={\"formatting\": parser.get_format_instructions}\n",
    ")"
   ]
  },
  {
   "cell_type": "code",
   "execution_count": 8,
   "id": "de39fdf5",
   "metadata": {},
   "outputs": [
    {
     "name": "stdout",
     "output_type": "stream",
     "text": [
      "Generate about 20 real estate listings using the sample listing, in the given format.\n",
      "Sample: Neighborhood: Green Oaks\n",
      "Price: $800,000\n",
      "Bedrooms: 3\n",
      "Bathrooms: 2\n",
      "House Size: 2,000 sqft\n",
      "\n",
      "Description: Welcome to this eco-friendly oasis nestled in the heart of Green Oaks. This charming 3-bedroom, 2-bathroom home boasts energy-efficient features such as solar panels and a well-insulated structure. Natural light floods the living spaces, highlighting the beautiful hardwood floors and eco-conscious finishes. The open-concept kitchen and dining area lead to a spacious backyard with a vegetable garden, perfect for the eco-conscious family. Embrace sustainable living without compromising on style in this Green Oaks gem.\n",
      "\n",
      "Neighborhood Description: Green Oaks is a close-knit, environmentally-conscious community with access to organic grocery stores, community gardens, and bike paths. Take a stroll through the nearby Green Oaks Park or grab a cup of coffee at the cozy Green Bean Cafe. With easy access to public transportation and bike lanes, commuting is a breeze.\n",
      "Format: The output should be formatted as a JSON instance that conforms to the JSON schema below.\n",
      "\n",
      "As an example, for the schema {\"properties\": {\"foo\": {\"title\": \"Foo\", \"description\": \"a list of strings\", \"type\": \"array\", \"items\": {\"type\": \"string\"}}}, \"required\": [\"foo\"]}\n",
      "the object {\"foo\": [\"bar\", \"baz\"]} is a well-formatted instance of the schema. The object {\"properties\": {\"foo\": [\"bar\", \"baz\"]}} is not well-formatted.\n",
      "\n",
      "Here is the output schema:\n",
      "```\n",
      "{\"description\": \"A collection of real estate listings.\", \"properties\": {\"listings\": {\"title\": \"Listings\", \"description\": \"A list of real estate listings\", \"type\": \"array\", \"items\": {\"$ref\": \"#/definitions/PropertyListing\"}}}, \"required\": [\"listings\"], \"definitions\": {\"PropertyListing\": {\"title\": \"PropertyListing\", \"description\": \"A real estate listing.\", \"type\": \"object\", \"properties\": {\"neighborhood\": {\"title\": \"Neighborhood\", \"description\": \"The neighborhood where the property is located\", \"type\": \"string\"}, \"price\": {\"title\": \"Price\", \"description\": \"The price of the property in USD\", \"minimum\": 0, \"type\": \"integer\"}, \"bedrooms\": {\"title\": \"Bedrooms\", \"description\": \"The number of bedrooms in the property\", \"minimum\": 0, \"type\": \"integer\"}, \"bathrooms\": {\"title\": \"Bathrooms\", \"description\": \"The number of bathrooms in the property\", \"minimum\": 0, \"type\": \"integer\"}, \"house_size\": {\"title\": \"House Size\", \"description\": \"The size of the house in square feet\", \"minimum\": 0, \"type\": \"integer\"}, \"description\": {\"title\": \"Description\", \"description\": \"A description of the property\", \"type\": \"string\"}, \"neighborhood_description\": {\"title\": \"Neighborhood Description\", \"description\": \"A description of the neighborhood.\", \"type\": \"string\"}}, \"required\": [\"neighborhood\", \"price\", \"bedrooms\", \"bathrooms\", \"house_size\", \"description\", \"neighborhood_description\"]}}}\n",
      "```\n"
     ]
    }
   ],
   "source": [
    "instruction = \"Generate about 20 real estate listings using the sample listing, in the given format.\"\n",
    "\n",
    "sample_listing = \"\"\"Neighborhood: Green Oaks\n",
    "Price: $800,000\n",
    "Bedrooms: 3\n",
    "Bathrooms: 2\n",
    "House Size: 2,000 sqft\n",
    "\n",
    "Description: Welcome to this eco-friendly oasis nestled in the heart of Green Oaks. This charming 3-bedroom, 2-bathroom home boasts energy-efficient features such as solar panels and a well-insulated structure. Natural light floods the living spaces, highlighting the beautiful hardwood floors and eco-conscious finishes. The open-concept kitchen and dining area lead to a spacious backyard with a vegetable garden, perfect for the eco-conscious family. Embrace sustainable living without compromising on style in this Green Oaks gem.\n",
    "\n",
    "Neighborhood Description: Green Oaks is a close-knit, environmentally-conscious community with access to organic grocery stores, community gardens, and bike paths. Take a stroll through the nearby Green Oaks Park or grab a cup of coffee at the cozy Green Bean Cafe. With easy access to public transportation and bike lanes, commuting is a breeze.\"\"\"\n",
    "\n",
    "query = generate_data.format(\n",
    "            instruction = instruction,\n",
    "            sample = sample_listing)\n",
    "\n",
    "print(query)\n"
   ]
  },
  {
   "cell_type": "code",
   "execution_count": 9,
   "id": "0ad3ea69",
   "metadata": {},
   "outputs": [],
   "source": [
    "data = llm(query)"
   ]
  },
  {
   "cell_type": "code",
   "execution_count": 10,
   "id": "7b8679ce",
   "metadata": {},
   "outputs": [],
   "source": [
    "data_list = parser.parse(data)\n",
    "listings = pd.DataFrame(jsonable_encoder(data_list.listings))"
   ]
  },
  {
   "cell_type": "code",
   "execution_count": 12,
   "id": "c991c80c",
   "metadata": {},
   "outputs": [
    {
     "data": {
      "text/html": [
       "<div>\n",
       "<style scoped>\n",
       "    .dataframe tbody tr th:only-of-type {\n",
       "        vertical-align: middle;\n",
       "    }\n",
       "\n",
       "    .dataframe tbody tr th {\n",
       "        vertical-align: top;\n",
       "    }\n",
       "\n",
       "    .dataframe thead th {\n",
       "        text-align: right;\n",
       "    }\n",
       "</style>\n",
       "<table border=\"1\" class=\"dataframe\">\n",
       "  <thead>\n",
       "    <tr style=\"text-align: right;\">\n",
       "      <th></th>\n",
       "      <th>neighborhood</th>\n",
       "      <th>price</th>\n",
       "      <th>bedrooms</th>\n",
       "      <th>bathrooms</th>\n",
       "      <th>house_size</th>\n",
       "      <th>description</th>\n",
       "      <th>neighborhood_description</th>\n",
       "    </tr>\n",
       "  </thead>\n",
       "  <tbody>\n",
       "    <tr>\n",
       "      <th>0</th>\n",
       "      <td>Green Oaks</td>\n",
       "      <td>800000</td>\n",
       "      <td>3</td>\n",
       "      <td>2</td>\n",
       "      <td>2000</td>\n",
       "      <td>Welcome to this eco-friendly oasis nestled in ...</td>\n",
       "      <td>Green Oaks is a close-knit, environmentally-co...</td>\n",
       "    </tr>\n",
       "    <tr>\n",
       "      <th>1</th>\n",
       "      <td>Maple Grove</td>\n",
       "      <td>650000</td>\n",
       "      <td>4</td>\n",
       "      <td>3</td>\n",
       "      <td>2500</td>\n",
       "      <td>Step into this spacious 4-bedroom, 3-bathroom ...</td>\n",
       "      <td>Maple Grove is known for its top-rated schools...</td>\n",
       "    </tr>\n",
       "    <tr>\n",
       "      <th>2</th>\n",
       "      <td>Sunset Hills</td>\n",
       "      <td>900000</td>\n",
       "      <td>5</td>\n",
       "      <td>4</td>\n",
       "      <td>3500</td>\n",
       "      <td>Luxury awaits in this stunning 5-bedroom, 4-ba...</td>\n",
       "      <td>Sunset Hills is an upscale community known for...</td>\n",
       "    </tr>\n",
       "    <tr>\n",
       "      <th>3</th>\n",
       "      <td>Riverfront Estates</td>\n",
       "      <td>1200000</td>\n",
       "      <td>6</td>\n",
       "      <td>5</td>\n",
       "      <td>4500</td>\n",
       "      <td>Welcome to this waterfront paradise in the pre...</td>\n",
       "      <td>Riverfront Estates is an exclusive community w...</td>\n",
       "    </tr>\n",
       "    <tr>\n",
       "      <th>4</th>\n",
       "      <td>Pine Ridge</td>\n",
       "      <td>750000</td>\n",
       "      <td>4</td>\n",
       "      <td>3</td>\n",
       "      <td>2800</td>\n",
       "      <td>Step into this beautifully renovated 4-bedroom...</td>\n",
       "      <td>Pine Ridge is a peaceful community with tree-l...</td>\n",
       "    </tr>\n",
       "  </tbody>\n",
       "</table>\n",
       "</div>"
      ],
      "text/plain": [
       "         neighborhood    price  bedrooms  bathrooms  house_size  \\\n",
       "0          Green Oaks   800000         3          2        2000   \n",
       "1         Maple Grove   650000         4          3        2500   \n",
       "2        Sunset Hills   900000         5          4        3500   \n",
       "3  Riverfront Estates  1200000         6          5        4500   \n",
       "4          Pine Ridge   750000         4          3        2800   \n",
       "\n",
       "                                         description  \\\n",
       "0  Welcome to this eco-friendly oasis nestled in ...   \n",
       "1  Step into this spacious 4-bedroom, 3-bathroom ...   \n",
       "2  Luxury awaits in this stunning 5-bedroom, 4-ba...   \n",
       "3  Welcome to this waterfront paradise in the pre...   \n",
       "4  Step into this beautifully renovated 4-bedroom...   \n",
       "\n",
       "                            neighborhood_description  \n",
       "0  Green Oaks is a close-knit, environmentally-co...  \n",
       "1  Maple Grove is known for its top-rated schools...  \n",
       "2  Sunset Hills is an upscale community known for...  \n",
       "3  Riverfront Estates is an exclusive community w...  \n",
       "4  Pine Ridge is a peaceful community with tree-l...  "
      ]
     },
     "execution_count": 12,
     "metadata": {},
     "output_type": "execute_result"
    }
   ],
   "source": [
    "listings.head()"
   ]
  },
  {
   "cell_type": "code",
   "execution_count": 13,
   "id": "221c9803",
   "metadata": {},
   "outputs": [],
   "source": [
    "listings.to_csv(\"real_estate_listings.csv\", index_label=\"id\")"
   ]
  },
  {
   "cell_type": "markdown",
   "id": "78ad1e1d",
   "metadata": {},
   "source": [
    "## 2. Implementing Semantic Search\n",
    "**Setting Up the Vector Database:** We begin by initializing and configuring ChromaDB, or an equivalent vector database, to store real estate listings.\n",
    "\n",
    "**Creating and Storing Embeddings:** Transform the listings generated by the LLM into embeddings that accurately represent the semantic content of each listing, then store these embeddings in the vector database."
   ]
  },
  {
   "cell_type": "code",
   "execution_count": 6,
   "id": "6ba639b4",
   "metadata": {},
   "outputs": [],
   "source": [
    "# Initialize and configure ChromaDB or a similar vector database to store real estate listings\n",
    "CHROMA_PATH = \"chroma\"\n",
    "CSV_PATH = \"real_estate_listings.csv\""
   ]
  },
  {
   "cell_type": "code",
   "execution_count": 7,
   "id": "a25d8d7f",
   "metadata": {},
   "outputs": [],
   "source": [
    "embeddings = OpenAIEmbeddings()"
   ]
  },
  {
   "cell_type": "code",
   "execution_count": 12,
   "id": "51409c38",
   "metadata": {},
   "outputs": [],
   "source": []
  },
  {
   "cell_type": "code",
   "execution_count": 27,
   "id": "555af9ac",
   "metadata": {},
   "outputs": [
    {
     "name": "stdout",
     "output_type": "stream",
     "text": [
      "Processed 19 documents into 39 segments.\n",
      "The gourmet kitchen boasts quartz countertops and stainless steel appliances. Retreat to the master suite with a spa-like bathroom and walk-in closet.\n",
      "{'doc_id': '4', 'start_index': 198}\n",
      "Stored 39 segments at chroma.\n"
     ]
    }
   ],
   "source": [
    "# Load CSV data\n",
    "data_frame = pd.read_csv(CSV_PATH)\n",
    "doc_list = []\n",
    "for idx, record in data_frame.iterrows():\n",
    "    doc_list.append(Document(page_content=record['description'], metadata={'doc_id': str(idx)}))\n",
    "\n",
    "# Text segmentation\n",
    "segmenter = RecursiveCharacterTextSplitter(\n",
    "    chunk_size=300,\n",
    "    chunk_overlap=100,\n",
    "    length_function=len,\n",
    "    add_start_index=True,\n",
    ")\n",
    "segmented_docs = segmenter.split_documents(doc_list)\n",
    "print(f\"Processed {len(doc_list)} documents into {len(segmented_docs)} segments.\")\n",
    "\n",
    "if segmented_docs:\n",
    "    sample_doc = segmented_docs[10]\n",
    "    print(sample_doc.page_content)\n",
    "    print(sample_doc.metadata)\n",
    "\n",
    "# Store in Chroma\n",
    "if os.path.exists(CHROMA_PATH):\n",
    "    shutil.rmtree(CHROMA_PATH)\n",
    "\n",
    "chroma_db = Chroma.from_documents(\n",
    "    segmented_docs, OpenAIEmbeddings(), persist_directory=CHROMA_PATH\n",
    ")\n",
    "chroma_db.persist()\n",
    "print(f\"Stored {len(segmented_docs)} segments at {CHROMA_PATH}.\")\n"
   ]
  },
  {
   "cell_type": "markdown",
   "id": "a30e13d0",
   "metadata": {},
   "source": [
    "## Context: Semantic Search for Listings Based on Buyer Preferences\n",
    "\n",
    "- The following code is designed to perform a **Semantic Search for Listings Aligned with Buyer Preferences**.\n",
    "\n",
    "- It starts by collecting buyer preferences, such as the number of bedrooms, bathrooms, location, and other specific requirements. These preferences can be gathered through predefined questions or by allowing the buyer to enter their preferences in natural language.\n",
    "\n",
    "- The code then implements logic to interpret and structure these preferences, making them suitable for querying a vector database. This ensures that the search results closely match the buyer's specified needs."
   ]
  },
  {
   "cell_type": "code",
   "execution_count": 40,
   "id": "022394c6",
   "metadata": {},
   "outputs": [],
   "source": [
    "query_text = \"A cozy 4-bedroom apartment with modern amenities, a spacious kitchen, and a balcony with a great view.\""
   ]
  },
  {
   "cell_type": "code",
   "execution_count": 41,
   "id": "27273a79",
   "metadata": {},
   "outputs": [],
   "source": [
    "PROMPT_TEMPLATE = \"\"\"\n",
    "Based on the following context only:\n",
    "\n",
    "{context}\n",
    "\n",
    "---\n",
    "\n",
    "Respond to this requirement : {question}\n",
    "\"\"\""
   ]
  },
  {
   "cell_type": "markdown",
   "id": "4d7babe8",
   "metadata": {},
   "source": [
    "\n",
    "### Preference-Based Search\n",
    "\n",
    "**Semantic Search Implementation:** Leverage the structured buyer preferences to conduct a semantic search within the vector database, retrieving listings that align most closely with the user's specified criteria.\n",
    "\n",
    "**Listing Retrieval Logic:** Optimize the retrieval algorithm to prioritize and select the listings that are most relevant, based on their semantic similarity to the buyer's preferences."
   ]
  },
  {
   "cell_type": "code",
   "execution_count": 38,
   "id": "e1b8747c",
   "metadata": {},
   "outputs": [],
   "source": [
    "def generate_response(user_query, prompt_template):\n",
    "    embedding_func = OpenAIEmbeddings()\n",
    "    chroma_db = Chroma(persist_directory=CHROMA_PATH, embedding_function=embedding_func)\n",
    "\n",
    "    # Perform similarity search in the database.\n",
    "    search_results = chroma_db.similarity_search_with_relevance_scores(user_query, k=3)\n",
    "    if not search_results or search_results[0][1] < 0.7:\n",
    "        print(\"No suitable matches found.\")\n",
    "    else:\n",
    "        combined_context = \"\\n\\n---\\n\\n\".join([result.page_content for result, _ in search_results])\n",
    "        prompt_builder = ChatPromptTemplate.from_template(prompt_template)\n",
    "        generated_prompt = prompt_builder.format(context=combined_context, question=user_query)\n",
    "        print(f\"Constructed Prompt:\\n{generated_prompt}\")\n",
    "        \n",
    "        ai_model = ChatOpenAI()\n",
    "        generated_response = ai_model.predict(generated_prompt)\n",
    "        source_ids = [result.metadata.get(\"doc_id\", None) for result, _score in search_results]\n",
    "        final_response = f\"Response: {generated_response}\\nSources: {source_ids}\"\n",
    "        print(final_response)\n"
   ]
  },
  {
   "cell_type": "code",
   "execution_count": 42,
   "id": "2e71e1af",
   "metadata": {},
   "outputs": [
    {
     "name": "stdout",
     "output_type": "stream",
     "text": [
      "Constructed Prompt:\n",
      "Human: \n",
      "Based on the following context only:\n",
      "\n",
      "Welcome to this charming 4-bedroom, 3-bathroom home in the peaceful Mountain View Heights neighborhood. The open-concept living area features hardwood floors, a cozy fireplace, and a gourmet kitchen with granite countertops. The master suite offers a private balcony with mountain views. Enjoy the\n",
      "\n",
      "---\n",
      "\n",
      "appliances. The expansive master suite features a spa-like bathroom and a private balcony with panoramic views. Entertain guests in the backyard oasis with a pool and outdoor kitchen.\n",
      "\n",
      "---\n",
      "\n",
      "The gourmet kitchen features high-end appliances and a breakfast nook. Relax in the backyard oasis with a covered patio and lush landscaping.\n",
      "\n",
      "---\n",
      "\n",
      "Respond to this requirement : A cozy 4-bedroom apartment with modern amenities, a spacious kitchen, and a balcony with a great view.\n",
      "\n",
      "Response: Based on the context provided, it seems like the charming 4-bedroom, 3-bathroom home in Mountain View Heights neighborhood would meet your requirement. The home features modern amenities, a gourmet kitchen with granite countertops, hardwood floors, and a cozy fireplace. The master suite also includes a private balcony with mountain views. Additionally, the backyard oasis offers a pool and outdoor kitchen for entertaining.\n",
      "Sources: ['16', '2', '13']\n"
     ]
    }
   ],
   "source": [
    "generate_response(query_text, PROMPT_TEMPLATE)"
   ]
  },
  {
   "cell_type": "markdown",
   "id": "4380ea14",
   "metadata": {},
   "source": [
    "## 3. Generating Augmented Response\n",
    "\n",
    "### Personalizing Property Descriptions\n",
    "\n",
    "**LLM Enhancement:** For every retrieved listing, we utilize the LLM to refine the description, customizing it to align with the buyer's specific preferences. This includes highlighting features of the property that match what the buyer is seeking.\n",
    "\n",
    "**Preserving Accuracy:** We also ensure that the enhancement process increases the listing's attractiveness without changing any factual details."
   ]
  },
  {
   "cell_type": "code",
   "execution_count": 43,
   "id": "f106a374",
   "metadata": {},
   "outputs": [],
   "source": [
    "PROMPT_TEMPLATE_AUGMENTED =\"\"\"\n",
    "Given the context below:\n",
    "\n",
    "{context}\n",
    "\n",
    "---\n",
    "\n",
    "Formulate a response that not only addresses the question {question}, but also ensures your explanation is unique, engaging, and tailored to the outlined preferences. Focus on subtly highlighting features of the property that match the buyer's specific interests.\n",
    "\"\"\"\n"
   ]
  },
  {
   "cell_type": "code",
   "execution_count": 44,
   "id": "36b625bd",
   "metadata": {},
   "outputs": [
    {
     "name": "stdout",
     "output_type": "stream",
     "text": [
      "Constructed Prompt:\n",
      "Human: \n",
      "Given the context below:\n",
      "\n",
      "Welcome to this charming 4-bedroom, 3-bathroom home in the peaceful Mountain View Heights neighborhood. The open-concept living area features hardwood floors, a cozy fireplace, and a gourmet kitchen with granite countertops. The master suite offers a private balcony with mountain views. Enjoy the\n",
      "\n",
      "---\n",
      "\n",
      "appliances. The expansive master suite features a spa-like bathroom and a private balcony with panoramic views. Entertain guests in the backyard oasis with a pool and outdoor kitchen.\n",
      "\n",
      "---\n",
      "\n",
      "The gourmet kitchen features high-end appliances and a breakfast nook. Relax in the backyard oasis with a covered patio and lush landscaping.\n",
      "\n",
      "---\n",
      "\n",
      "Formulate a response that not only addresses the question A cozy 4-bedroom apartment with modern amenities, a spacious kitchen, and a balcony with a great view., but also ensures your explanation is unique, engaging, and tailored to the outlined preferences. Focus on subtly highlighting features of the property that match the buyer's specific interests.\n",
      "\n",
      "Response: Welcome to this exquisite 4-bedroom, 3-bathroom home nestled in the serene Mountain View Heights neighborhood. This charming residence boasts a cozy fireplace, hardwood floors, and a gourmet kitchen with luxurious granite countertops. The master suite is truly a retreat with its spa-like bathroom and a private balcony offering breathtaking mountain views.\n",
      "\n",
      "As you step into the open-concept living area, you'll be greeted by high-end appliances and a breakfast nook perfect for enjoying your morning coffee. The backyard oasis is an entertainer's dream, featuring a pool, outdoor kitchen, and covered patio surrounded by lush landscaping.\n",
      "\n",
      "This home truly embodies modern amenities and spacious living, making it the perfect blend of comfort and luxury. With its unique features and stunning views, this property is sure to exceed your expectations of a cozy 4-bedroom apartment.\n",
      "Sources: ['16', '2', '13']\n"
     ]
    }
   ],
   "source": [
    "generate_response(query_text, PROMPT_TEMPLATE_AUGMENTED)"
   ]
  },
  {
   "cell_type": "code",
   "execution_count": null,
   "id": "5a02459b",
   "metadata": {},
   "outputs": [],
   "source": []
  }
 ],
 "metadata": {
  "kernelspec": {
   "display_name": "Python 3 (ipykernel)",
   "language": "python",
   "name": "python3"
  },
  "language_info": {
   "codemirror_mode": {
    "name": "ipython",
    "version": 3
   },
   "file_extension": ".py",
   "mimetype": "text/x-python",
   "name": "python",
   "nbconvert_exporter": "python",
   "pygments_lexer": "ipython3",
   "version": "3.10.11"
  }
 },
 "nbformat": 4,
 "nbformat_minor": 5
}
